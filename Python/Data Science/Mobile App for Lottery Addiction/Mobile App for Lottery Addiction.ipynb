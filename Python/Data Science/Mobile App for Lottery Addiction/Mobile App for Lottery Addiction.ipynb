{
 "cells": [
  {
   "cell_type": "markdown",
   "metadata": {},
   "source": [
    "## Introduction\n",
    "Our goal in this project is to contribute to the development of a mobile app that is meant to help lottery addicts better estimate their chances of winning. \n",
    "\n",
    "For the first version of the app, we want to focus on the [6/49](https://en.wikipedia.org/wiki/Lotto_6/49) lottery and build functions that enable users to answer questions like:\n",
    "\n",
    "- What is the probability of winning the big prize with a single ticket?\n",
    "- What is the probability of winning the big prize if we play 40 different tickets (or any other number)\n",
    "- What is the probability of having at least five (or four, three, or two) winning numbers on a single ticket?\n",
    "\n",
    "### Dataset\n",
    "- Historical data coming from the national 6/49 lottery game in Canada.\n",
    "- [The dataset](https://www.kaggle.com/datascienceai/lottery-dataset) has data for 3,665 drawings, dating from 1982 to 2018\n",
    "\n",
    "Although the scenario is fictional - our **purpose** is to practice applying the concepts we learned in a setting that stimulates a real-world scenario "
   ]
  },
  {
   "cell_type": "markdown",
   "metadata": {},
   "source": [
    "## Core Function"
   ]
  },
  {
   "cell_type": "markdown",
   "metadata": {},
   "source": [
    "We'll write 2 functions that we'll use often:\n",
    "\n",
    "- A function that calculates factorials; and\n",
    "- A function that calculates combinations"
   ]
  },
  {
   "cell_type": "code",
   "execution_count": 13,
   "metadata": {
    "collapsed": true
   },
   "outputs": [],
   "source": [
    "def factorial(n):\n",
    "    \"\"\"Computes the factorial of the number n\n",
    "    \n",
    "    Args:\n",
    "        n(int): the number to compute for\n",
    "        \n",
    "    Returns:\n",
    "        n(int): the results\n",
    "    \"\"\"\n",
    "    final_product = 1\n",
    "    for i in range(n, 0, -1):\n",
    "        final_product *= i\n",
    "    return final_product"
   ]
  },
  {
   "cell_type": "code",
   "execution_count": 14,
   "metadata": {
    "collapsed": false
   },
   "outputs": [],
   "source": [
    "def combinations (n,k):\n",
    "    \"\"\"Computes the number of combinations when taking only k objects\n",
    "from a group of n objects\n",
    "\n",
    "    Args:\n",
    "        k (int): number of groups\n",
    "        n (int): the number of objects\n",
    "    Returns:\n",
    "        n(int): results\n",
    "    \"\"\"\n",
    "    numerator = factorial(n)\n",
    "    denominator = factorial(k) * (factorial(n-k))\n",
    "    return numerator/denominator"
   ]
  },
  {
   "cell_type": "markdown",
   "metadata": {},
   "source": [
    "## One-ticket probability"
   ]
  },
  {
   "cell_type": "markdown",
   "metadata": {},
   "source": [
    "For the first version of the app, we want players to be able to calculate the probability of winning the big prize with the various numbers that play on a single ticket (for each ticket, a player chooses six numbers out of 49).\n",
    "\n",
    "We'll start by building a function that calculates the probability of winning the big prize for any given ticket"
   ]
  },
  {
   "cell_type": "markdown",
   "metadata": {},
   "source": [
    "**Details to be aware:**\n",
    "\n",
    "- Inside the app, the user inputs six different numbers from 1 - 49\n",
    "- Under the hood, the 6 numbers will come as a Python list, which will serve as the single input to our function\n",
    "- The engineering team wants the function print the probability value in friendly way - in a way that people without any probability training are able to understand"
   ]
  },
  {
   "cell_type": "markdown",
   "metadata": {},
   "source": [
    "We'll write a function named `one_ticket_probability` to calculate the probability of winning the big prize with a single ticket"
   ]
  },
  {
   "cell_type": "code",
   "execution_count": 15,
   "metadata": {
    "collapsed": false
   },
   "outputs": [],
   "source": [
    "def one_ticket_probability(k, n):\n",
    "    \"\"\"Takes in a list of 6 numbers and prints the probability of winning\n",
    "in a way that's easy to understand\n",
    "\n",
    "    Args:\n",
    "        k (int): The number of objects wants to sample\n",
    "        n (int): Total possible number\n",
    "    \n",
    "    Returns:\n",
    "        n (float): probability of winning\n",
    "\n",
    "\"\"\"\n",
    "    possible_outcomes = combinations(n, k)\n",
    "    successful_outcome = 1 # We assume that the player only buy 1 ticket\n",
    "    prob_1_ticket = successful_outcome / possible_outcomes\n",
    "    percentage = prob_1_ticket\n",
    "    \n",
    "    print('Your probability of winning is: {:.8f}'.format(percentage))"
   ]
  },
  {
   "cell_type": "code",
   "execution_count": 16,
   "metadata": {
    "collapsed": false
   },
   "outputs": [
    {
     "name": "stdout",
     "output_type": "stream",
     "text": [
      "Your probability of winning is: 0.00000007\n"
     ]
    }
   ],
   "source": [
    "one_ticket = one_ticket_probability(6, 49)"
   ]
  },
  {
   "cell_type": "markdown",
   "metadata": {},
   "source": [
    "## Historical Data Check for Canada Lottery"
   ]
  },
  {
   "cell_type": "markdown",
   "metadata": {},
   "source": [
    "After writing a function that can tell users the probability of winning the big prize with a single ticket, however, for the first version of the app, users should be able to compare their ticket against the historical lottery data in Canada & determine whether they would have ever won by now."
   ]
  },
  {
   "cell_type": "code",
   "execution_count": 17,
   "metadata": {
    "collapsed": true
   },
   "outputs": [],
   "source": [
    "import numpy as np\n",
    "import pandas as pd\n",
    "import matplotlib.pyplot as plt\n",
    "%matplotlib inline"
   ]
  },
  {
   "cell_type": "code",
   "execution_count": 18,
   "metadata": {
    "collapsed": false,
    "scrolled": true
   },
   "outputs": [
    {
     "name": "stdout",
     "output_type": "stream",
     "text": [
      "PRODUCT                  649\n",
      "DRAW NUMBER                1\n",
      "SEQUENCE NUMBER            0\n",
      "DRAW DATE          6/12/1982\n",
      "NUMBER DRAWN 1             3\n",
      "NUMBER DRAWN 2            11\n",
      "NUMBER DRAWN 3            12\n",
      "NUMBER DRAWN 4            14\n",
      "NUMBER DRAWN 5            41\n",
      "NUMBER DRAWN 6            43\n",
      "BONUS NUMBER              13\n",
      "Name: 0, dtype: object\n"
     ]
    }
   ],
   "source": [
    "lottery = pd.read_csv('649.csv')\n",
    "print(lottery.iloc[0])"
   ]
  },
  {
   "cell_type": "code",
   "execution_count": 19,
   "metadata": {
    "collapsed": false
   },
   "outputs": [
    {
     "name": "stdout",
     "output_type": "stream",
     "text": [
      "<class 'pandas.core.frame.DataFrame'>\n",
      "RangeIndex: 3665 entries, 0 to 3664\n",
      "Data columns (total 11 columns):\n",
      "PRODUCT            3665 non-null int64\n",
      "DRAW NUMBER        3665 non-null int64\n",
      "SEQUENCE NUMBER    3665 non-null int64\n",
      "DRAW DATE          3665 non-null object\n",
      "NUMBER DRAWN 1     3665 non-null int64\n",
      "NUMBER DRAWN 2     3665 non-null int64\n",
      "NUMBER DRAWN 3     3665 non-null int64\n",
      "NUMBER DRAWN 4     3665 non-null int64\n",
      "NUMBER DRAWN 5     3665 non-null int64\n",
      "NUMBER DRAWN 6     3665 non-null int64\n",
      "BONUS NUMBER       3665 non-null int64\n",
      "dtypes: int64(10), object(1)\n",
      "memory usage: 315.0+ KB\n",
      "None\n"
     ]
    }
   ],
   "source": [
    "# Look at the info of the dataset\n",
    "print(lottery.info())"
   ]
  },
  {
   "cell_type": "markdown",
   "metadata": {},
   "source": [
    "## Functions for Historical Data Check"
   ]
  },
  {
   "cell_type": "markdown",
   "metadata": {},
   "source": [
    "We will write a function that will enable users to compare their ticket against the histoical lottery data in Canada and determine whether they would have ever won by now."
   ]
  },
  {
   "cell_type": "markdown",
   "metadata": {},
   "source": [
    "**Details to notice**:\n",
    "\n",
    "- Inside the app, the user inputs 6 different numbers from 1 - 49\n",
    "- Under the hood, the 6 numbers will come as a Python list and serve as an input to our function\n",
    "- The function should print:\n",
    "    - The number of times the combination selected occurred in the Canada data set\n",
    "    - The probability of winning the big prize in the next drawing with that combination"
   ]
  },
  {
   "cell_type": "code",
   "execution_count": 20,
   "metadata": {
    "collapsed": false
   },
   "outputs": [],
   "source": [
    "# A function to extract individual winning numbers\n",
    "\n",
    "# def extract_numbers(row):\n",
    "#     \"\"\"Takes a row of lottery dataframe and returns a set containing all\n",
    "# 6 winning numbers\"\"\"\n",
    "#     num_1 = lottery.iloc[row, 4]\n",
    "#     num_2 = lottery.iloc[row, 8]\n",
    "#     num_3 = lottery.iloc[row, 5]\n",
    "#     num_4 = lottery.iloc[row, 6]\n",
    "#     num_5 = lottery.iloc[row, 9]\n",
    "#     num_6 = lottery.iloc[row, 7]\n",
    "#     winning_number_list = [num_1, num_2, num_3, num_4, num_5, num_6]\n",
    "#     winning_num = set(winning_number_list)\n",
    "#     print('The winning number is: {}'.format(winning_num))\n",
    "#     return winning_num\n",
    "\n",
    "def extract_numbers(row):\n",
    "    row = row[4:10]\n",
    "    row = set(row.values)\n",
    "    return row"
   ]
  },
  {
   "cell_type": "code",
   "execution_count": 21,
   "metadata": {
    "collapsed": false
   },
   "outputs": [],
   "source": [
    "## Apply to a whole dataframe\n",
    "winning_num = lottery.apply(extract_numbers, axis = 1)"
   ]
  },
  {
   "cell_type": "code",
   "execution_count": 22,
   "metadata": {
    "collapsed": false
   },
   "outputs": [
    {
     "data": {
      "text/plain": [
       "0     {3, 41, 11, 12, 43, 14}\n",
       "1     {33, 36, 37, 39, 8, 41}\n",
       "2      {1, 6, 39, 23, 24, 27}\n",
       "3      {3, 9, 10, 43, 13, 20}\n",
       "4     {34, 5, 14, 47, 21, 31}\n",
       "5     {8, 41, 20, 21, 25, 31}\n",
       "6    {33, 36, 42, 18, 25, 28}\n",
       "7     {7, 40, 16, 17, 48, 31}\n",
       "8     {5, 38, 37, 10, 23, 27}\n",
       "9     {4, 37, 46, 15, 48, 30}\n",
       "dtype: object"
      ]
     },
     "execution_count": 22,
     "metadata": {},
     "output_type": "execute_result"
    }
   ],
   "source": [
    "winning_num.head(10)"
   ]
  },
  {
   "cell_type": "markdown",
   "metadata": {},
   "source": [
    "We'll write a function name `check_historical_occurence` to compare the sets users input with the winning numbers to find the numbers of matches has occurred in the history and ouput their probability of chance of winning"
   ]
  },
  {
   "cell_type": "code",
   "execution_count": 23,
   "metadata": {
    "collapsed": true
   },
   "outputs": [],
   "source": [
    "def check_historical_occurence(user_num, win_num):\n",
    "    user_num = set(user_num)\n",
    "    occurence_check = user_num == win_num\n",
    "    num_occur = occurence_check.sum()\n",
    "    if num_occur == 1:\n",
    "        print(\"\"\"Congratulations. This set of numbers has occurred {} times\"\"\".\n",
    "        format(num_occur))\n",
    "        print(one_ticket_probability(6, 49))\n",
    "    else:\n",
    "        print(\"Nah! Save your money for something else!\")"
   ]
  },
  {
   "cell_type": "code",
   "execution_count": 24,
   "metadata": {
    "collapsed": false
   },
   "outputs": [
    {
     "name": "stdout",
     "output_type": "stream",
     "text": [
      "Nah! Save your money for something else!\n"
     ]
    }
   ],
   "source": [
    "check_1 = check_historical_occurence([6, 41, 13, 14, 52, 27], winning_num)"
   ]
  },
  {
   "cell_type": "code",
   "execution_count": 25,
   "metadata": {
    "collapsed": false
   },
   "outputs": [
    {
     "name": "stdout",
     "output_type": "stream",
     "text": [
      "Congratulations. This set of numbers has occurred 1 times\n",
      "Your probability of winning is: 0.00000007\n",
      "None\n"
     ]
    }
   ],
   "source": [
    "check_2 = check_historical_occurence([4, 37, 46, 15, 48, 30], winning_num)"
   ]
  },
  {
   "cell_type": "markdown",
   "metadata": {},
   "source": [
    "## Multi-ticket Probability"
   ]
  },
  {
   "cell_type": "markdown",
   "metadata": {},
   "source": [
    "Since lottery addicts usually play more than 1 ticket on a single drawing, thinking that his might increases their chances of winning significantly. Therefore, our purpose is to help them better estimates their chances of winning - so we're going to write a function that will allow the users to calculate the chances of winning for any number of different tickets"
   ]
  },
  {
   "cell_type": "markdown",
   "metadata": {},
   "source": [
    "**Details to notice**:\n",
    "\n",
    "- The user will input the number of *different* tickets they want to play (without inputting the specific combinations they intent to play)\n",
    "- The function will see an integer between 1 & 13,983,816 (maximum number of different tickets)\n",
    "- The function will print information about the probability of winning the big prize depending on the number of different tickets played"
   ]
  },
  {
   "cell_type": "code",
   "execution_count": 26,
   "metadata": {
    "collapsed": true
   },
   "outputs": [],
   "source": [
    "def multi_ticket_probability(ticket_num):\n",
    "    possible_outcomes = combinations(49,6)\n",
    "    successful_outcome = ticket_num\n",
    "    win_prob = successful_outcome / possible_outcomes\n",
    "    win_perc = win_prob * 100\n",
    "    print('Your probability of winning the big prize with {} different tickets is {:.6f}'.format(ticket_num, win_perc))"
   ]
  },
  {
   "cell_type": "code",
   "execution_count": 27,
   "metadata": {
    "collapsed": false
   },
   "outputs": [
    {
     "name": "stdout",
     "output_type": "stream",
     "text": [
      "Your probability of winning the big prize with 1 different tickets is 0.000007\n",
      "Your probability of winning the big prize with 100 different tickets is 0.000715\n",
      "Your probability of winning the big prize with 6991908 different tickets is 50.000000\n",
      "Your probability of winning the big prize with 10000 different tickets is 0.071511\n"
     ]
    }
   ],
   "source": [
    "# Check the function with\n",
    "\n",
    "check_1 = multi_ticket_probability(1)\n",
    "check_2 = multi_ticket_probability(100)\n",
    "check_3 = multi_ticket_probability(6991908)\n",
    "check_4 = multi_ticket_probability(10000)"
   ]
  },
  {
   "cell_type": "markdown",
   "metadata": {},
   "source": [
    "## Less Winning Numbers - Function"
   ]
  },
  {
   "cell_type": "markdown",
   "metadata": {},
   "source": [
    "We're going to write 1 more function to allow the users to calculate probabilities for 2, 3, 4, or 5 winning numbers"
   ]
  },
  {
   "cell_type": "markdown",
   "metadata": {},
   "source": [
    "**Context**: in most 6/49 lotteries, there're smaller prize if a player's ticket match 2, 3, 4, or 5 of the 6 number drawn. Consequently, the users might be interested in knowing the probability of having 2, 3, 4, or 5 winning numbers"
   ]
  },
  {
   "cell_type": "markdown",
   "metadata": {},
   "source": [
    "**Details to notice:**\n",
    "\n",
    "- Inside the app, the user will input:\n",
    "    - 6 different numbers from 1 to 49;\n",
    "    - An integer between 2 & 5 that represents the number of winning number expected\n",
    "- The function will print information about the probability of having the inputted number of winning numbers"
   ]
  },
  {
   "cell_type": "code",
   "execution_count": 28,
   "metadata": {
    "collapsed": true
   },
   "outputs": [],
   "source": [
    "def probability_less_6(input_num):\n",
    "    combination = combinations(6, input_num)\n",
    "    success_outcome = combinations(43, 6 - input_num)\n",
    "    total_success_outcome = combination * success_outcome\n",
    "    winning_prob = total_success_outcome /combinations(49,6)\n",
    "    winning_perct = winning_prob * 100\n",
    "    \n",
    "    print('The probability of {} winning numbers is: {:.4f}%'.format(input_num, winning_perct))"
   ]
  },
  {
   "cell_type": "code",
   "execution_count": 29,
   "metadata": {
    "collapsed": false
   },
   "outputs": [
    {
     "name": "stdout",
     "output_type": "stream",
     "text": [
      "The probability of 2 winning numbers is: 13.2378%\n"
     ]
    }
   ],
   "source": [
    "win_2 = probability_less_6(2)"
   ]
  },
  {
   "cell_type": "code",
   "execution_count": 30,
   "metadata": {
    "collapsed": false
   },
   "outputs": [
    {
     "name": "stdout",
     "output_type": "stream",
     "text": [
      "The probability of 2 winning numbers is: 13.2378%\n",
      "The probability of 3 winning numbers is: 1.7650%\n",
      "The probability of 4 winning numbers is: 0.0969%\n",
      "The probability of 5 winning numbers is: 0.0018%\n"
     ]
    }
   ],
   "source": [
    "# Test the function with all possible inputs:\n",
    "for num in [2, 3, 4, 5]:\n",
    "    probability_less_6(num)"
   ]
  },
  {
   "cell_type": "code",
   "execution_count": null,
   "metadata": {
    "collapsed": true
   },
   "outputs": [],
   "source": []
  }
 ],
 "metadata": {
  "kernelspec": {
   "display_name": "Python 3",
   "language": "python",
   "name": "python3"
  },
  "language_info": {
   "codemirror_mode": {
    "name": "ipython",
    "version": 3
   },
   "file_extension": ".py",
   "mimetype": "text/x-python",
   "name": "python",
   "nbconvert_exporter": "python",
   "pygments_lexer": "ipython3",
   "version": "3.4.3"
  }
 },
 "nbformat": 4,
 "nbformat_minor": 2
}
