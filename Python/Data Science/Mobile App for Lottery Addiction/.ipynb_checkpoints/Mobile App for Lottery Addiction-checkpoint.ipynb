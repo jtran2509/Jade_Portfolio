{
 "cells": [
  {
   "cell_type": "code",
   "execution_count": 1,
   "metadata": {},
   "outputs": [],
   "source": [
    "import warnings\n",
    "warnings.filterwarnings('ignore')\n",
    "\n",
    "from IPython.display import display, clear_output"
   ]
  },
  {
   "cell_type": "code",
   "execution_count": 2,
   "metadata": {},
   "outputs": [],
   "source": [
    "from __future__ import print_function\n",
    "from ipywidgets import interact, interactive, fixed, interact_manual\n",
    "import ipywidgets as widgets"
   ]
  },
  {
   "cell_type": "code",
   "execution_count": 3,
   "metadata": {
    "scrolled": false
   },
   "outputs": [
    {
     "name": "stderr",
     "output_type": "stream",
     "text": [
      "Enabling notebook extension jupyter-js-widgets/extension...\n",
      "      - Validating: ok\n",
      "Enabling: voila\n",
      "- Writing config: C:\\Users\\Dung\\.anaconda3\\etc\\jupyter\n",
      "    - Validating...\n",
      "      voila 0.2.10 ok\n"
     ]
    }
   ],
   "source": [
    "!jupyter nbextension enable --py widgetsnbextension --sys-prefix\n",
    "!jupyter serverextension enable voila --sys-prefix"
   ]
  },
  {
   "cell_type": "code",
   "execution_count": 4,
   "metadata": {},
   "outputs": [],
   "source": [
    "def factorial(n):\n",
    "    \"\"\"Computes the factorial of the number n\n",
    "    \n",
    "    Args:\n",
    "        n(int): the number to compute for\n",
    "        \n",
    "    Returns:\n",
    "        n(int): the results\n",
    "    \"\"\"\n",
    "    final_product = 1\n",
    "    for i in range(n, 0, -1):\n",
    "        final_product *= i\n",
    "    return final_product"
   ]
  },
  {
   "cell_type": "code",
   "execution_count": 5,
   "metadata": {},
   "outputs": [],
   "source": [
    "def combinations (n,k):\n",
    "    \"\"\"Computes the number of combinations when taking only k objects\n",
    "from a group of n objects\n",
    "\n",
    "    Args:\n",
    "        k (int): number of groups\n",
    "        n (int): the number of objects\n",
    "    Returns:\n",
    "        n(int): results\n",
    "    \"\"\"\n",
    "    numerator = factorial(n)\n",
    "    denominator = factorial(k) * (factorial(n-k))\n",
    "    return numerator/denominator"
   ]
  },
  {
   "cell_type": "code",
   "execution_count": 39,
   "metadata": {},
   "outputs": [],
   "source": [
    "def one_ticket_probability(k, n):\n",
    "    \"\"\"Takes in a list of 6 numbers and prints the probability of winning\n",
    "in a way that's easy to understand\n",
    "\n",
    "    Args:\n",
    "        k (int): The number of objects wants to sample\n",
    "        n (int): Total possible number\n",
    "    \n",
    "    Returns:\n",
    "        n (float): probability of winning\n",
    "\n",
    "\"\"\"\n",
    "    possible_outcomes = combinations(n, k)\n",
    "    successful_outcome = 1 # We assume that the player only buy 1 ticket\n",
    "    prob_1_ticket = successful_outcome / possible_outcomes\n",
    "    percentage = prob_1_ticket\n",
    "    \n",
    "    print('Your probability of winning is: {:.8f}'.format(percentage))"
   ]
  },
  {
   "cell_type": "code",
   "execution_count": 6,
   "metadata": {},
   "outputs": [
    {
     "data": {
      "text/html": [
       "<h1><center>You chances of winning is...</center></h1>"
      ],
      "text/plain": [
       "<IPython.core.display.HTML object>"
      ]
     },
     "metadata": {},
     "output_type": "display_data"
    }
   ],
   "source": [
    "from IPython.core.display import display, HTML\n",
    "display(HTML('<h1><center>You chances of winning is...</center></h1>'))"
   ]
  },
  {
   "cell_type": "code",
   "execution_count": 7,
   "metadata": {
    "scrolled": false
   },
   "outputs": [
    {
     "data": {
      "text/html": [
       "<p><h2>Check now:</h2></p>"
      ],
      "text/plain": [
       "<IPython.core.display.HTML object>"
      ]
     },
     "metadata": {},
     "output_type": "display_data"
    }
   ],
   "source": [
    "display(HTML('<p><h2>Multi-ticket probability winning:</h2></p>'))"
   ]
  },
  {
   "cell_type": "code",
   "execution_count": 33,
   "metadata": {},
   "outputs": [],
   "source": [
    "from IPython.display import display, Markdown"
   ]
  },
  {
   "cell_type": "code",
   "execution_count": 36,
   "metadata": {},
   "outputs": [],
   "source": [
    "def multi_ticket_probability(ticket_num):\n",
    "    possible_outcomes = combinations(49,6)\n",
    "    successful_outcome = int(ticket_num)\n",
    "    win_prob = successful_outcome / possible_outcomes\n",
    "    win_perc = win_prob * 100\n",
    "#     print('Your probability of winning the big prize with {} different tickets is {:.6f}'.format(ticket_num, win_perc))\n",
    "    display(Markdown('Your probability of winning the big prize with **{}** different tickets is **{:.6f}**'.format(ticket_num, win_perc)))"
   ]
  },
  {
   "cell_type": "code",
   "execution_count": 38,
   "metadata": {},
   "outputs": [
    {
     "data": {
      "application/vnd.jupyter.widget-view+json": {
       "model_id": "d7e8bd3f84c74051bbab95c9ceafec7b",
       "version_major": 2,
       "version_minor": 0
      },
      "text/plain": [
       "interactive(children=(FloatSlider(value=2.0, description='ticket_num', min=2.0, step=1.0), Output()), _dom_cla…"
      ]
     },
     "metadata": {},
     "output_type": "display_data"
    },
    {
     "data": {
      "text/plain": [
       "<function __main__.multi_ticket_probability(ticket_num)>"
      ]
     },
     "execution_count": 38,
     "metadata": {},
     "output_type": "execute_result"
    }
   ],
   "source": [
    "c_slide = widgets.FloatSlider(value = 2, min= 2, max = 100, step = 1)\n",
    "widgets.interact(multi_ticket_probability, ticket_num = c_slide)"
   ]
  },
  {
   "cell_type": "markdown",
   "metadata": {},
   "source": [
    "## Historical Data Check for Canada Lottery"
   ]
  },
  {
   "cell_type": "code",
   "execution_count": 12,
   "metadata": {},
   "outputs": [],
   "source": [
    "import numpy as np\n",
    "import pandas as pd\n",
    "import matplotlib.pyplot as plt\n",
    "%matplotlib inline"
   ]
  },
  {
   "cell_type": "code",
   "execution_count": 42,
   "metadata": {
    "scrolled": true
   },
   "outputs": [],
   "source": [
    "lottery = pd.read_csv('649.csv')"
   ]
  },
  {
   "cell_type": "markdown",
   "metadata": {},
   "source": [
    "## Functions for Historical Data Check"
   ]
  },
  {
   "cell_type": "markdown",
   "metadata": {},
   "source": [
    "We will write a function that will enable users to compare their ticket against the histoical lottery data in Canada and determine whether they would have ever won by now."
   ]
  },
  {
   "cell_type": "markdown",
   "metadata": {},
   "source": [
    "**Details to notice**:\n",
    "\n",
    "- Inside the app, the user inputs 6 different numbers from 1 - 49\n",
    "- Under the hood, the 6 numbers will come as a Python list and serve as an input to our function\n",
    "- The function should print:\n",
    "    - The number of times the combination selected occurred in the Canada data set\n",
    "    - The probability of winning the big prize in the next drawing with that combination"
   ]
  },
  {
   "cell_type": "code",
   "execution_count": 15,
   "metadata": {},
   "outputs": [],
   "source": [
    "def extract_numbers(row):\n",
    "    row = row[4:10]\n",
    "    row = set(row.values)\n",
    "    return row"
   ]
  },
  {
   "cell_type": "code",
   "execution_count": 16,
   "metadata": {},
   "outputs": [],
   "source": [
    "## Apply to a whole dataframe\n",
    "winning_num = lottery.apply(extract_numbers, axis = 1)"
   ]
  },
  {
   "cell_type": "code",
   "execution_count": 17,
   "metadata": {},
   "outputs": [
    {
     "data": {
      "text/plain": [
       "0     {3, 41, 11, 12, 43, 14}\n",
       "1     {33, 36, 37, 39, 8, 41}\n",
       "2      {1, 6, 39, 23, 24, 27}\n",
       "3      {3, 9, 10, 43, 13, 20}\n",
       "4     {34, 5, 14, 47, 21, 31}\n",
       "5     {8, 41, 20, 21, 25, 31}\n",
       "6    {33, 36, 42, 18, 25, 28}\n",
       "7     {7, 40, 16, 17, 48, 31}\n",
       "8     {37, 5, 38, 10, 23, 27}\n",
       "9     {4, 37, 46, 15, 48, 30}\n",
       "dtype: object"
      ]
     },
     "execution_count": 17,
     "metadata": {},
     "output_type": "execute_result"
    }
   ],
   "source": [
    "winning_num.head(10)"
   ]
  },
  {
   "cell_type": "markdown",
   "metadata": {},
   "source": [
    "We'll write a function name `check_historical_occurence` to compare the sets users input with the winning numbers to find the numbers of matches has occurred in the history and ouput their probability of chance of winning"
   ]
  },
  {
   "cell_type": "code",
   "execution_count": 18,
   "metadata": {},
   "outputs": [],
   "source": [
    "def check_historical_occurence(user_num, win_num):\n",
    "    user_num = set(user_num)\n",
    "    occurence_check = user_num == win_num\n",
    "    num_occur = occurence_check.sum()\n",
    "    if num_occur == 1:\n",
    "        print(\"\"\"Congratulations. This set of numbers has occurred {} times\"\"\".\n",
    "        format(num_occur))\n",
    "        print(one_ticket_probability(6, 49))\n",
    "    else:\n",
    "        print(\"Nah! Save your money for something else!\")"
   ]
  },
  {
   "cell_type": "code",
   "execution_count": 19,
   "metadata": {},
   "outputs": [
    {
     "name": "stdout",
     "output_type": "stream",
     "text": [
      "Nah! Save your money for something else!\n"
     ]
    }
   ],
   "source": [
    "check_1 = check_historical_occurence([6, 41, 13, 14, 52, 27], winning_num)"
   ]
  },
  {
   "cell_type": "code",
   "execution_count": 20,
   "metadata": {},
   "outputs": [
    {
     "name": "stdout",
     "output_type": "stream",
     "text": [
      "Congratulations. This set of numbers has occurred 1 times\n",
      "Your probability of winning is: 0.00000007\n",
      "None\n"
     ]
    }
   ],
   "source": [
    "check_2 = check_historical_occurence([4, 37, 46, 15, 48, 30], winning_num)"
   ]
  },
  {
   "cell_type": "markdown",
   "metadata": {},
   "source": [
    "## Less Winning Numbers - Function"
   ]
  },
  {
   "cell_type": "markdown",
   "metadata": {},
   "source": [
    "**Details to notice:**\n",
    "\n",
    "- Inside the app, the user will input:\n",
    "    - 6 different numbers from 1 to 49;\n",
    "    - An integer between 2 & 5 that represents the number of winning number expected\n",
    "- The function will print information about the probability of having the inputted number of winning numbers"
   ]
  },
  {
   "cell_type": "code",
   "execution_count": 22,
   "metadata": {},
   "outputs": [],
   "source": [
    "def probability_less_6(input_num):\n",
    "    combination = combinations(6, input_num)\n",
    "    success_outcome = combinations(43, 6 - input_num)\n",
    "    total_success_outcome = combination * success_outcome\n",
    "    winning_prob = total_success_outcome /combinations(49,6)\n",
    "    winning_perct = winning_prob * 100\n",
    "    \n",
    "    print('The probability of {} winning numbers is: {:.4f}%'.format(input_num, winning_perct))"
   ]
  },
  {
   "cell_type": "code",
   "execution_count": 23,
   "metadata": {},
   "outputs": [
    {
     "name": "stdout",
     "output_type": "stream",
     "text": [
      "The probability of 2 winning numbers is: 13.2378%\n"
     ]
    }
   ],
   "source": [
    "win_2 = probability_less_6(2)"
   ]
  },
  {
   "cell_type": "code",
   "execution_count": 24,
   "metadata": {},
   "outputs": [
    {
     "name": "stdout",
     "output_type": "stream",
     "text": [
      "The probability of 2 winning numbers is: 13.2378%\n",
      "The probability of 3 winning numbers is: 1.7650%\n",
      "The probability of 4 winning numbers is: 0.0969%\n",
      "The probability of 5 winning numbers is: 0.0018%\n"
     ]
    }
   ],
   "source": [
    "# Test the function with all possible inputs:\n",
    "for num in [2, 3, 4, 5]:\n",
    "    probability_less_6(num)"
   ]
  },
  {
   "cell_type": "code",
   "execution_count": 41,
   "metadata": {},
   "outputs": [
    {
     "data": {
      "application/vnd.jupyter.widget-view+json": {
       "model_id": "2434fc6b96a24443a9cba6e23831cde3",
       "version_major": 2,
       "version_minor": 0
      },
      "text/plain": [
       "interactive(children=(FloatSlider(value=2.0, description='input_num', max=5.0, min=2.0, step=1.0), Output()), …"
      ]
     },
     "metadata": {},
     "output_type": "display_data"
    },
    {
     "data": {
      "text/plain": [
       "<function __main__.probability_less_6(input_num)>"
      ]
     },
     "execution_count": 41,
     "metadata": {},
     "output_type": "execute_result"
    }
   ],
   "source": [
    "c_slide = widgets.FloatSlider(value = 2, min= 2, max = 5, step = 1)\n",
    "widgets.interact(probability_less_6, input_num = c_slide)"
   ]
  },
  {
   "cell_type": "code",
   "execution_count": null,
   "metadata": {},
   "outputs": [],
   "source": []
  }
 ],
 "metadata": {
  "kernelspec": {
   "display_name": "Python 3",
   "language": "python",
   "name": "python3"
  },
  "language_info": {
   "codemirror_mode": {
    "name": "ipython",
    "version": 3
   },
   "file_extension": ".py",
   "mimetype": "text/x-python",
   "name": "python",
   "nbconvert_exporter": "python",
   "pygments_lexer": "ipython3",
   "version": "3.8.8"
  }
 },
 "nbformat": 4,
 "nbformat_minor": 2
}
